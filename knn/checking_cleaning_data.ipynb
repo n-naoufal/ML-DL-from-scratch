{
 "cells": [
  {
   "cell_type": "code",
   "execution_count": 1,
   "metadata": {
    "collapsed": true
   },
   "outputs": [],
   "source": [
    "import pandas as pd"
   ]
  },
  {
   "cell_type": "code",
   "execution_count": 3,
   "metadata": {},
   "outputs": [
    {
     "name": "stdout",
     "output_type": "stream",
     "text": [
      "  Code du département Libellé du département  Code de la commune  \\\n",
      "0                   1                    Ain                   1   \n",
      "1                   1                    Ain                   2   \n",
      "\n",
      "     Libellé de la commune  Inscrits  Abstentions  % Abs/Ins  Votants  \\\n",
      "0  L'Abergement-Clémenciat       598          100      16.72      498   \n",
      "1    L'Abergement-de-Varey       209           32      15.31      177   \n",
      "\n",
      "   % Vot/Ins  Blancs     ...       Voix  % Voix/Ins  % Voix/Exp  N°Panneau.1  \\\n",
      "0      83.28      37     ...        272       45.48       60.04            2   \n",
      "1      84.69      21     ...         93       44.50       62.00            2   \n",
      "\n",
      "   Sexe.1   Nom.1  Prénom.1  Voix.1  % Voix/Ins.1 % Voix/Exp.1  \n",
      "0       F  LE PEN    Marine     181         30.27        39.96  \n",
      "1       F  LE PEN    Marine      57         27.27        38.00  \n",
      "\n",
      "[2 rows x 32 columns]\n",
      "----------------------------------------------\n",
      "<class 'pandas.core.frame.DataFrame'>\n",
      "RangeIndex: 35719 entries, 0 to 35718\n",
      "Data columns (total 32 columns):\n",
      "Code du département       35719 non-null object\n",
      "Libellé du département    35719 non-null object\n",
      "Code de la commune        35719 non-null int64\n",
      "Libellé de la commune     35719 non-null object\n",
      "Inscrits                  35719 non-null int64\n",
      "Abstentions               35719 non-null int64\n",
      "% Abs/Ins                 35719 non-null float64\n",
      "Votants                   35719 non-null int64\n",
      "% Vot/Ins                 35719 non-null float64\n",
      "Blancs                    35719 non-null int64\n",
      "% Blancs/Ins              35719 non-null float64\n",
      "% Blancs/Vot              35719 non-null float64\n",
      "Nuls                      35719 non-null int64\n",
      "% Nuls/Ins                35719 non-null float64\n",
      "% Nuls/Vot                35719 non-null float64\n",
      "Exprimés                  35719 non-null int64\n",
      "% Exp/Ins                 35719 non-null float64\n",
      "% Exp/Vot                 35719 non-null float64\n",
      "N°Panneau                 35719 non-null int64\n",
      "Sexe                      35719 non-null object\n",
      "Nom                       35719 non-null object\n",
      "Prénom                    35719 non-null object\n",
      "Voix                      35719 non-null int64\n",
      "% Voix/Ins                35719 non-null float64\n",
      "% Voix/Exp                35719 non-null float64\n",
      "N°Panneau.1               35719 non-null int64\n",
      "Sexe.1                    35719 non-null object\n",
      "Nom.1                     35719 non-null object\n",
      "Prénom.1                  35719 non-null object\n",
      "Voix.1                    35719 non-null int64\n",
      "% Voix/Ins.1              35719 non-null float64\n",
      "% Voix/Exp.1              35719 non-null float64\n",
      "dtypes: float64(12), int64(11), object(9)\n",
      "memory usage: 8.7+ MB\n",
      "None\n"
     ]
    }
   ],
   "source": [
    "df = pd.read_excel(\"Presidentielle_2017_Resultats_Communes_Tour_2_c.xls\",header=3)\n",
    "print(df.head(2))\n",
    "print(\"----------------------------------------------\")\n",
    "print(df.info())"
   ]
  },
  {
   "cell_type": "code",
   "execution_count": 100,
   "metadata": {
    "collapsed": true
   },
   "outputs": [],
   "source": [
    "df = df.rename(columns = {'Voix':'MACRON'})\n",
    "df = df.rename(columns = {'Voix.1':'PEN'})\n",
    "df[\"winner\"] = df.eval(\"MACRON >= PEN\").map({True:1,False:0})\n",
    "df_cleaned = df[[\"Libellé de la commune\",\"% Abs/Ins\",\"% Blancs/Ins\",\"% Nuls/Vot\",\"winner\"]]\n",
    "df_cleaned.columns=[\"town\",\"abstention/subscribers\",\"whiteballot/subscribers\",\"invalid/voters\",\"winner\"]\n",
    "df_cleaned.head()\n",
    "df_cleaned.to_pickle('df_clean')"
   ]
  },
  {
   "cell_type": "code",
   "execution_count": 5,
   "metadata": {},
   "outputs": [
    {
     "name": "stdout",
     "output_type": "stream",
     "text": [
      "Results of elections by number of towns\n",
      "MACRON    26530\n",
      "LE PEN     9189\n",
      "Name: winner, dtype: int64\n",
      "----------------------------------------------\n",
      "new dataset\n",
      "                      town  abstention/subscribers  whiteballot/subscribers  \\\n",
      "0  L'Abergement-Clémenciat                   16.72                     6.19   \n",
      "1    L'Abergement-de-Varey                   15.31                    10.05   \n",
      "2        Ambérieu-en-Bugey                   26.93                     7.00   \n",
      "3      Ambérieux-en-Dombes                   22.10                     6.57   \n",
      "4                  Ambléon                   23.23                    17.17   \n",
      "\n",
      "   invalid/voters  winner  \n",
      "0            1.61       1  \n",
      "1            3.39       1  \n",
      "2            3.46       1  \n",
      "3            2.63       1  \n",
      "4            0.00       1  \n"
     ]
    }
   ],
   "source": [
    "print(\"Results of elections by number of towns\")\n",
    "print(df_cleaned.winner.value_counts().rename({0: \"LE PEN\", 1: \"MACRON\"}))\n",
    "print(\"----------------------------------------------\")\n",
    "print(\"new dataset\")\n",
    "print(df_cleaned.head())"
   ]
  }
 ],
 "metadata": {
  "kernelspec": {
   "display_name": "Python 3",
   "language": "python",
   "name": "python3"
  },
  "language_info": {
   "codemirror_mode": {
    "name": "ipython",
    "version": 3
   },
   "file_extension": ".py",
   "mimetype": "text/x-python",
   "name": "python",
   "nbconvert_exporter": "python",
   "pygments_lexer": "ipython3",
   "version": "3.6.2"
  }
 },
 "nbformat": 4,
 "nbformat_minor": 2
}
